{
 "cells": [
  {
   "cell_type": "code",
   "execution_count": 1,
   "metadata": {},
   "outputs": [
    {
     "name": "stdout",
     "output_type": "stream",
     "text": [
      "Monkey 0:\n",
      "  Starting items: 79, 98\n",
      "  Operation: new = old * 19\n",
      "  Test: divisible by 23\n",
      "    If true: throw to monkey 2\n",
      "    If false: throw to monkey 3\n",
      "\n",
      "Monkey 1:\n",
      "  Starting items: 54, 65, 75, 74\n",
      "  Operation: new = old + 6\n",
      "  Test: divisible by 19\n",
      "    If true: throw to monkey 2\n",
      "    If false: throw to monkey 0\n",
      "\n",
      "Monkey 2:\n",
      "  Starting items: 79, 60, 97\n",
      "  Operation: new = old * old\n",
      "  Test: divisible by 13\n",
      "    If true: throw to monkey 1\n",
      "    If false: throw to monkey 3\n",
      "\n",
      "Monkey 3:\n",
      "  Starting items: 74\n",
      "  Operation: new = old + 3\n",
      "  Test: divisible by 17\n",
      "    If true: throw to monkey 0\n",
      "    If false: throw to monkey 1\n"
     ]
    }
   ],
   "source": [
    "#part 1\n",
    "import regex as re\n",
    "import numpy as np\n",
    "import math\n",
    "templist=[]\n",
    "#with open('D:\\Data\\AoC2022\\day11.txt', 'r') as f:\n",
    "with open('D:\\Data\\AoC2022\\day11_test.txt', 'r') as f:\n",
    "    Lines = f.readlines()\n",
    "\n",
    "monkey=[]\n",
    "operation=[]\n",
    "for index, y in enumerate(Lines):\n",
    "    y=re.sub(\"\\n\",\"\",y)\n",
    "    print(y)\n",
    "\n",
    "        \n",
    "        \n"
   ]
  },
  {
   "cell_type": "code",
   "execution_count": 69,
   "metadata": {},
   "outputs": [
    {
     "name": "stdout",
     "output_type": "stream",
     "text": [
      "['79', ' 98']\n",
      "['54', ' 65', ' 75', ' 74']\n",
      "['79', ' 60', ' 97']\n",
      "['74']\n",
      "monkey=[['79', ' 98'], ['54', ' 65', ' 75', ' 74'], ['79', ' 60', ' 97'], ['74']]\n",
      "ops1=[['* 19'], ['+ 6'], ['* old'], ['+ 3']]\n",
      "opsfunc=['*', '+', '*', '+']\n",
      "opsfunc2=['19', '6', 'old', '3']\n",
      "testl=['23', '19', '13', '17']\n",
      "truel=['2', '2', '1', '0']\n",
      "falsel=['3', '0', '3', '1']\n",
      "monkey=[['79', ' 98'], ['54', ' 65', ' 75', ' 74'], ['79', ' 60', ' 97'], ['74']]\n",
      "[[79, 98], [54, 65, 75, 74], [79, 60, 97], [74]]\n",
      "[[79, 98], [54, 65, 75, 74], [79, 60, 97], [74]]\n",
      "['*', '+', '**', '+'] ['19', '6', 2, '3']\n"
     ]
    }
   ],
   "source": [
    "#part 1\n",
    "import regex as re\n",
    "import numpy as np\n",
    "import operator\n",
    "templist=[]\n",
    "#with open('D:\\Data\\AoC2022\\day11.txt', 'r') as f:\n",
    "with open('D:\\Data\\AoC2022\\day11_test.txt', 'r') as f:\n",
    "    Lines = f.readlines()\n",
    "\n",
    "monkey=[]\n",
    "operation=[]\n",
    "ops1=[]        \n",
    "opsfunc=[]        \n",
    "opsfunc2=[]\n",
    "truel=[]\n",
    "falsel=[]\n",
    "testl=[]        \n",
    "\n",
    "for index, y in enumerate(Lines):\n",
    "    y=re.sub(\"\\n\",\"\",y)\n",
    "    if re.search(\"Starting items: (.*)\",y):\n",
    "        result = re.search(\"Starting items: (.*)\",y)\n",
    "        monkey.append(result.group(1).split(\",\"))\n",
    "        print(result.group(1).split(\",\"))\n",
    "\n",
    "    if re.search(\"Operation: new = old (.*)\",y):\n",
    "        result1 = re.search(\"Operation: new = old (.*)\",y)\n",
    "        ops1.append([result1.group(1)])\n",
    "        result2=re.search(\"Operation: new = old (.*) [\\w\\d]\",y)\n",
    "        opsfunc.append(result2.group(1)) \n",
    "        result2=re.search(\"Operation: new = old (.*) (\\w+\\d?)\",y)\n",
    "        opsfunc2.append(result2.group(2)) \n",
    "        \n",
    "\n",
    "    if re.search(\"Test: (.*)\",y):\n",
    "        result2 = re.search(\"Test: divisible by (.*)\",y)\n",
    "        testl.append(result2.group(1))\n",
    "        \n",
    "    if re.search(\"If true: throw to monkey (.*)\",y):\n",
    "        result3 = re.search(\"If true: throw to monkey (.*)\",y)\n",
    "        truel.append(result3.group(1))\n",
    "   \n",
    "\n",
    "    if re.search(\"If false: throw to monkey (.*)\",y):\n",
    "        result3 = re.search(\"If false: throw to monkey (.*)\",y)\n",
    "        falsel.append(result3.group(1))\n",
    "        \n",
    "        \n",
    "print(f\"{monkey=}\")\n",
    "print(f\"{ops1=}\")\n",
    "print(f\"{opsfunc=}\")\n",
    "print(f\"{opsfunc2=}\")\n",
    "print(f\"{testl=}\")\n",
    "print(f\"{truel=}\")\n",
    "print(f\"{falsel=}\")\n",
    "\n",
    "lion=[]\n",
    "print(f\"{monkey=}\")\n",
    "for x in monkey:\n",
    "    cubs=[]\n",
    "    for y in x:\n",
    "        y=int(y.strip())\n",
    "        cubs.append(y)\n",
    "    lion.append(cubs)\n",
    "\n",
    "print(lion)\n",
    "monkey=lion.copy()\n",
    "print(monkey)   \n",
    "ops = {\n",
    "    \"+\": operator.add,\n",
    "    \"-\": operator.sub,\n",
    "    \"*\": operator.mul,\n",
    "    \"/\": operator.truediv,\n",
    "    \"**\":operator.pow,\n",
    "}\n",
    "\n",
    "flat2=opsfunc2.copy()\n",
    "flat=opsfunc.copy()\n",
    "for i in range(len(flat)):\n",
    "    if flat2[i]==\"old\":\n",
    "        flat2[i]= 2\n",
    "        flat[i]= \"**\"\n",
    "\n",
    "print(flat, flat2)\n",
    "     \n",
    "        \n"
   ]
  },
  {
   "cell_type": "code",
   "execution_count": 70,
   "metadata": {},
   "outputs": [
    {
     "name": "stdout",
     "output_type": "stream",
     "text": [
      "[[79, 98], [54, 65, 75, 74], [79, 60, 97], [74]]\n",
      "x=0\n",
      "[y]=[0]\n",
      "gorilla[x]=[79, 98]\n",
      "gorilla[x][y]=79\n",
      "*\n",
      "ops[flat[x]]=<built-in function mul>\n",
      "79\n",
      "19\n",
      "500\n",
      "[[79, 98], [54, 65, 75, 74], [79, 60, 97], [74, 500]]\n",
      "monkey=[[79, 98], [54, 65, 75, 74], [79, 60, 97], [74]]\n",
      "gorilla=[[98], [54, 65, 75, 74], [79, 60, 97], [74, 500]]\n",
      "[y]=[1]\n",
      "gorilla[x]=[98]\n"
     ]
    },
    {
     "ename": "IndexError",
     "evalue": "list index out of range",
     "output_type": "error",
     "traceback": [
      "\u001b[1;31m---------------------------------------------------------------------------\u001b[0m",
      "\u001b[1;31mIndexError\u001b[0m                                Traceback (most recent call last)",
      "\u001b[1;32md:\\Data\\AoC2022\\day11.ipynb Cell 3\u001b[0m line \u001b[0;36m9\n\u001b[0;32m      <a href='vscode-notebook-cell:/d%3A/Data/AoC2022/day11.ipynb#W5sZmlsZQ%3D%3D?line=6'>7</a>\u001b[0m \u001b[39mprint\u001b[39m(\u001b[39mf\u001b[39m\u001b[39m\"\u001b[39m\u001b[39m{\u001b[39;00m[y]\u001b[39m=}\u001b[39;00m\u001b[39m\"\u001b[39m)\n\u001b[0;32m      <a href='vscode-notebook-cell:/d%3A/Data/AoC2022/day11.ipynb#W5sZmlsZQ%3D%3D?line=7'>8</a>\u001b[0m \u001b[39mprint\u001b[39m(\u001b[39mf\u001b[39m\u001b[39m\"\u001b[39m\u001b[39m{\u001b[39;00mgorilla[x]\u001b[39m=}\u001b[39;00m\u001b[39m\"\u001b[39m)\n\u001b[1;32m----> <a href='vscode-notebook-cell:/d%3A/Data/AoC2022/day11.ipynb#W5sZmlsZQ%3D%3D?line=8'>9</a>\u001b[0m \u001b[39mprint\u001b[39m(\u001b[39mf\u001b[39m\u001b[39m\"\u001b[39m\u001b[39m{\u001b[39;00mgorilla[x][y]\u001b[39m=}\u001b[39;00m\u001b[39m\"\u001b[39m)\n\u001b[0;32m     <a href='vscode-notebook-cell:/d%3A/Data/AoC2022/day11.ipynb#W5sZmlsZQ%3D%3D?line=9'>10</a>\u001b[0m \u001b[39mprint\u001b[39m(flat[x])\n\u001b[0;32m     <a href='vscode-notebook-cell:/d%3A/Data/AoC2022/day11.ipynb#W5sZmlsZQ%3D%3D?line=10'>11</a>\u001b[0m \u001b[39mprint\u001b[39m(\u001b[39mf\u001b[39m\u001b[39m\"\u001b[39m\u001b[39m{\u001b[39;00mops[flat[x]]\u001b[39m=}\u001b[39;00m\u001b[39m\"\u001b[39m)\n",
      "\u001b[1;31mIndexError\u001b[0m: list index out of range"
     ]
    }
   ],
   "source": [
    "import copy\n",
    "gorilla=copy.deepcopy(monkey)\n",
    "print(gorilla)\n",
    "for x in range(len(monkey)):\n",
    "    print(f\"{x=}\")\n",
    "    for y in range(len(gorilla[:][x])):\n",
    "        print(f\"{[y]=}\")\n",
    "        print(f\"{gorilla[x]=}\")\n",
    "        print(f\"{gorilla[x][y]=}\")\n",
    "        print(flat[x])\n",
    "        print(f\"{ops[flat[x]]=}\")\n",
    "        print(int(gorilla[x][y]))\n",
    "        print(int(flat2[x]))\n",
    "        worry=math.floor(ops[flat[x]](int(gorilla[x][y]),int(flat2[x]))/3)\n",
    "        print(worry)\n",
    "        if worry % int(testl[x])==0:\n",
    "            gorilla[int(truel[int(x)])].append(worry)\n",
    "        else:\n",
    "            gorilla[int(falsel[int(x)])].append(worry)\n",
    "        print(gorilla)\n",
    "        gorilla[x].remove(monkey[x][y])\n",
    "        print(f\"{monkey=}\")\n",
    "        print(f\"{gorilla=}\")\n",
    "    \n"
   ]
  },
  {
   "cell_type": "code",
   "execution_count": 72,
   "metadata": {},
   "outputs": [
    {
     "name": "stdout",
     "output_type": "stream",
     "text": [
      "[[79, 98], [54, 65, 75, 74], [79, 60, 97], [74]]\n",
      "x=0\n",
      "[y]=[79]\n",
      "gorilla[x]=[79, 98]\n",
      "*\n",
      "ops[flat[x]]=<built-in function mul>\n"
     ]
    },
    {
     "ename": "IndexError",
     "evalue": "list index out of range",
     "output_type": "error",
     "traceback": [
      "\u001b[1;31m---------------------------------------------------------------------------\u001b[0m",
      "\u001b[1;31mIndexError\u001b[0m                                Traceback (most recent call last)",
      "\u001b[1;32md:\\Data\\AoC2022\\day11.ipynb Cell 4\u001b[0m line \u001b[0;36m1\n\u001b[0;32m      <a href='vscode-notebook-cell:/d%3A/Data/AoC2022/day11.ipynb#X10sZmlsZQ%3D%3D?line=8'>9</a>\u001b[0m \u001b[39mprint\u001b[39m(flat[x])\n\u001b[0;32m     <a href='vscode-notebook-cell:/d%3A/Data/AoC2022/day11.ipynb#X10sZmlsZQ%3D%3D?line=9'>10</a>\u001b[0m \u001b[39mprint\u001b[39m(\u001b[39mf\u001b[39m\u001b[39m\"\u001b[39m\u001b[39m{\u001b[39;00mops[flat[x]]\u001b[39m=}\u001b[39;00m\u001b[39m\"\u001b[39m)\n\u001b[1;32m---> <a href='vscode-notebook-cell:/d%3A/Data/AoC2022/day11.ipynb#X10sZmlsZQ%3D%3D?line=10'>11</a>\u001b[0m \u001b[39mprint\u001b[39m(\u001b[39mint\u001b[39m(gorilla[x][y]))\n\u001b[0;32m     <a href='vscode-notebook-cell:/d%3A/Data/AoC2022/day11.ipynb#X10sZmlsZQ%3D%3D?line=11'>12</a>\u001b[0m \u001b[39mprint\u001b[39m(\u001b[39mint\u001b[39m(flat2[x]))\n\u001b[0;32m     <a href='vscode-notebook-cell:/d%3A/Data/AoC2022/day11.ipynb#X10sZmlsZQ%3D%3D?line=12'>13</a>\u001b[0m worry\u001b[39m=\u001b[39mmath\u001b[39m.\u001b[39mfloor(ops[flat[x]](\u001b[39mint\u001b[39m(gorilla[x][y]),\u001b[39mint\u001b[39m(flat2[x]))\u001b[39m/\u001b[39m\u001b[39m3\u001b[39m)\n",
      "\u001b[1;31mIndexError\u001b[0m: list index out of range"
     ]
    }
   ],
   "source": [
    "import copy\n",
    "gorilla=copy.deepcopy(monkey)\n",
    "print(gorilla)\n",
    "for x in range(len(monkey)):\n",
    "    print(f\"{x=}\")\n",
    "    for y in gorilla[x][:]:\n",
    "        print(f\"{[y]=}\")\n",
    "        print(f\"{gorilla[x]=}\")\n",
    "        print(flat[x])\n",
    "        print(f\"{ops[flat[x]]=}\")\n",
    "        print(int(gorilla[x][y]))\n",
    "        print(int(flat2[x]))\n",
    "        worry=math.floor(ops[flat[x]](int(gorilla[x][y]),int(flat2[x]))/3)\n",
    "        print(worry)\n",
    "        if worry % int(testl[x])==0:\n",
    "            gorilla[int(truel[int(x)])].append(worry)\n",
    "        else:\n",
    "            gorilla[int(falsel[int(x)])].append(worry)\n",
    "        print(gorilla)\n",
    "        gorilla[x].remove(monkey[x][y])\n",
    "        print(f\"{monkey=}\")\n",
    "        print(f\"{gorilla=}\")"
   ]
  },
  {
   "cell_type": "code",
   "execution_count": 65,
   "metadata": {},
   "outputs": [
    {
     "name": "stdout",
     "output_type": "stream",
     "text": [
      "3136.3333333333335\n"
     ]
    }
   ],
   "source": [
    "print(operator.pow(97,2)/3)"
   ]
  }
 ],
 "metadata": {
  "kernelspec": {
   "display_name": "stream",
   "language": "python",
   "name": "python3"
  },
  "language_info": {
   "codemirror_mode": {
    "name": "ipython",
    "version": 3
   },
   "file_extension": ".py",
   "mimetype": "text/x-python",
   "name": "python",
   "nbconvert_exporter": "python",
   "pygments_lexer": "ipython3",
   "version": "3.10.10"
  }
 },
 "nbformat": 4,
 "nbformat_minor": 2
}
