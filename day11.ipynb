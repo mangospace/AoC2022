{
 "cells": [
  {
   "cell_type": "code",
   "execution_count": 161,
   "metadata": {},
   "outputs": [
    {
     "name": "stdout",
     "output_type": "stream",
     "text": [
      "Monkey 0:\n",
      "  Starting items: 79, 98\n",
      "  Operation: new = old * 19\n",
      "  Test: divisible by 23\n",
      "    If true: throw to monkey 2\n",
      "    If false: throw to monkey 3\n",
      "\n",
      "Monkey 1:\n",
      "  Starting items: 54, 65, 75, 74\n",
      "  Operation: new = old + 6\n",
      "  Test: divisible by 19\n",
      "    If true: throw to monkey 2\n",
      "    If false: throw to monkey 0\n",
      "\n",
      "Monkey 2:\n",
      "  Starting items: 79, 60, 97\n",
      "  Operation: new = old * old\n",
      "  Test: divisible by 13\n",
      "    If true: throw to monkey 1\n",
      "    If false: throw to monkey 3\n",
      "\n",
      "Monkey 3:\n",
      "  Starting items: 74\n",
      "  Operation: new = old + 3\n",
      "  Test: divisible by 17\n",
      "    If true: throw to monkey 0\n",
      "    If false: throw to monkey 1\n"
     ]
    }
   ],
   "source": [
    "#part 1\n",
    "import regex as re\n",
    "import numpy as np\n",
    "import math\n",
    "templist=[]\n",
    "#with open('D:\\Data\\AoC2022\\day11.txt', 'r') as f:\n",
    "with open('D:\\Data\\AoC2022\\day11_test.txt', 'r') as f:\n",
    "    Lines = f.readlines()\n",
    "\n",
    "monkey=[]\n",
    "operation=[]\n",
    "for index, y in enumerate(Lines):\n",
    "    y=re.sub(\"\\n\",\"\",y)\n",
    "    print(y)\n",
    "\n",
    "        \n",
    "        \n"
   ]
  },
  {
   "cell_type": "code",
   "execution_count": 162,
   "metadata": {},
   "outputs": [
    {
     "name": "stdout",
     "output_type": "stream",
     "text": [
      "['79', ' 98']\n",
      "['54', ' 65', ' 75', ' 74']\n",
      "['79', ' 60', ' 97']\n",
      "['74']\n",
      "monkey=[['79', ' 98'], ['54', ' 65', ' 75', ' 74'], ['79', ' 60', ' 97'], ['74']]\n",
      "opsfunc=['*', '+', '*', '+']\n",
      "opsfunc2=['19', '6', 'old', '3']\n",
      "testl=['23', '19', '13', '17']\n",
      "truel=['2', '2', '1', '0']\n",
      "falsel=['3', '0', '3', '1']\n"
     ]
    }
   ],
   "source": [
    "#part 1\n",
    "import regex as re\n",
    "import numpy as np\n",
    "templist=[]\n",
    "#with open('D:\\Data\\AoC2022\\day11.txt', 'r') as f:\n",
    "with open('D:\\Data\\AoC2022\\day11_test.txt', 'r') as f:\n",
    "    Lines = f.readlines()\n",
    "\n",
    "monkey=[]\n",
    "operation=[]\n",
    "ops=[]        \n",
    "opsfunc=[]        \n",
    "opsfunc2=[]\n",
    "truel=[]\n",
    "falsel=[]\n",
    "testl=[]        \n",
    "\n",
    "for index, y in enumerate(Lines):\n",
    "    y=re.sub(\"\\n\",\"\",y)\n",
    "    if re.search(\"Starting items: (.*)\",y):\n",
    "        result = re.search(\"Starting items: (.*)\",y)\n",
    "        monkey.append(result.group(1).split(\",\"))\n",
    "        print(result.group(1).split(\",\"))\n",
    "\n",
    "    if re.search(\"Operation: new = old (.*)\",y):\n",
    "        result1 = re.search(\"Operation: new = old (.*)\",y)\n",
    "        ops.append([result1.group(1)])\n",
    "        result2=re.search(\"Operation: new = old (.*) [\\w\\d]\",y)\n",
    "        opsfunc.append(result2.group(1)) \n",
    "        result2=re.search(\"Operation: new = old (.*) (\\w+\\d?)\",y)\n",
    "        opsfunc2.append(result2.group(2)) \n",
    "        \n",
    "\n",
    "    if re.search(\"Test: (.*)\",y):\n",
    "        result2 = re.search(\"Test: divisible by (.*)\",y)\n",
    "        testl.append(result2.group(1))\n",
    "        \n",
    "    if re.search(\"If true: throw to monkey (.*)\",y):\n",
    "        result3 = re.search(\"If true: throw to monkey (.*)\",y)\n",
    "        truel.append(result3.group(1))\n",
    "   \n",
    "\n",
    "    if re.search(\"If false: throw to monkey (.*)\",y):\n",
    "        result3 = re.search(\"If false: throw to monkey (.*)\",y)\n",
    "        falsel.append(result3.group(1))\n",
    "        \n",
    "        \n",
    "print(f\"{monkey=}\")\n",
    "print(f\"{opsfunc=}\")\n",
    "print(f\"{opsfunc2=}\")\n",
    "print(f\"{testl=}\")\n",
    "print(f\"{truel=}\")\n",
    "print(f\"{falsel=}\")\n",
    "\n",
    "\n",
    "        \n"
   ]
  },
  {
   "cell_type": "code",
   "execution_count": 165,
   "metadata": {},
   "outputs": [
    {
     "name": "stdout",
     "output_type": "stream",
     "text": [
      "monkey=[['79', ' 98'], ['54', ' 65', ' 75', ' 74'], ['79', ' 60', ' 97'], ['74']]\n",
      "79\n",
      " 98\n",
      "54\n",
      " 65\n",
      " 75\n",
      " 74\n",
      "79\n",
      " 60\n",
      " 97\n",
      "74\n"
     ]
    }
   ],
   "source": [
    "lion=[]\n",
    "print(f\"{monkey=}\")\n",
    "for x in monkey:\n",
    "    for y in x:\n",
    "        print(y)\n",
    "        "
   ]
  },
  {
   "cell_type": "code",
   "execution_count": 153,
   "metadata": {},
   "outputs": [
    {
     "name": "stdout",
     "output_type": "stream",
     "text": [
      "['*', '+', '**', '+'] ['19', '6', 2, '3']\n"
     ]
    }
   ],
   "source": [
    "ops = {\n",
    "    \"+\": operator.add,\n",
    "    \"-\": operator.sub,\n",
    "    \"*\": operator.mul,\n",
    "    \"/\": operator.truediv,\n",
    "    \"**\":operator.pow,\n",
    "}\n",
    "\n",
    "flat2=opsfunc2.copy()\n",
    "flat=opsfunc.copy()\n",
    "for i in range(len(flat)):\n",
    "    if flat2[i]==\"old\":\n",
    "        flat2[i]= 2\n",
    "        flat[i]= \"**\"\n",
    "\n",
    "print(flat, flat2)\n"
   ]
  },
  {
   "cell_type": "code",
   "execution_count": 156,
   "metadata": {},
   "outputs": [
    {
     "name": "stdout",
     "output_type": "stream",
     "text": [
      "['79', ' 98', 20, 23, 27, 26]\n"
     ]
    },
    {
     "ename": "TypeError",
     "evalue": "list indices must be integers or slices, not list",
     "output_type": "error",
     "traceback": [
      "\u001b[1;31m---------------------------------------------------------------------------\u001b[0m",
      "\u001b[1;31mTypeError\u001b[0m                                 Traceback (most recent call last)",
      "\u001b[1;32md:\\Data\\AoC2022\\day11.ipynb Cell 4\u001b[0m line \u001b[0;36m3\n\u001b[0;32m      <a href='vscode-notebook-cell:/d%3A/Data/AoC2022/day11.ipynb#X12sZmlsZQ%3D%3D?line=0'>1</a>\u001b[0m \u001b[39mfor\u001b[39;00m x \u001b[39min\u001b[39;00m monkey:\n\u001b[0;32m      <a href='vscode-notebook-cell:/d%3A/Data/AoC2022/day11.ipynb#X12sZmlsZQ%3D%3D?line=1'>2</a>\u001b[0m     \u001b[39mprint\u001b[39m(x)\n\u001b[1;32m----> <a href='vscode-notebook-cell:/d%3A/Data/AoC2022/day11.ipynb#X12sZmlsZQ%3D%3D?line=2'>3</a>\u001b[0m     \u001b[39mfor\u001b[39;00m y \u001b[39min\u001b[39;00m monkey[x]:\n\u001b[0;32m      <a href='vscode-notebook-cell:/d%3A/Data/AoC2022/day11.ipynb#X12sZmlsZQ%3D%3D?line=3'>4</a>\u001b[0m         \u001b[39mprint\u001b[39m(y)\n",
      "\u001b[1;31mTypeError\u001b[0m: list indices must be integers or slices, not list"
     ]
    }
   ],
   "source": [
    "for x in monkey:\n",
    "    print(x)\n",
    "    for y in monkey[x]:\n",
    "        print(y)\n",
    "        "
   ]
  },
  {
   "cell_type": "code",
   "execution_count": 154,
   "metadata": {},
   "outputs": [
    {
     "name": "stdout",
     "output_type": "stream",
     "text": [
      "x=0\n",
      "500\n",
      "[['79', ' 98'], ['54', ' 65', ' 75', ' 74'], ['79', ' 60', ' 97'], ['74', 500]]\n",
      "620\n",
      "[['79', ' 98'], ['54', ' 65', ' 75', ' 74'], ['79', ' 60', ' 97'], ['74', 500, 620]]\n",
      "x=1\n",
      "20\n",
      "[['79', ' 98', 20], ['54', ' 65', ' 75', ' 74'], ['79', ' 60', ' 97'], ['74', 500, 620]]\n",
      "23\n",
      "[['79', ' 98', 20, 23], ['54', ' 65', ' 75', ' 74'], ['79', ' 60', ' 97'], ['74', 500, 620]]\n",
      "27\n",
      "[['79', ' 98', 20, 23, 27], ['54', ' 65', ' 75', ' 74'], ['79', ' 60', ' 97'], ['74', 500, 620]]\n",
      "26\n",
      "[['79', ' 98', 20, 23, 27, 26], ['54', ' 65', ' 75', ' 74'], ['79', ' 60', ' 97'], ['74', 500, 620]]\n",
      "x=2\n",
      "2080\n",
      "[['79', ' 98', 20, 23, 27, 26], ['54', ' 65', ' 75', ' 74', 2080], ['79', ' 60', ' 97'], ['74', 500, 620]]\n",
      "1200\n",
      "[['79', ' 98', 20, 23, 27, 26], ['54', ' 65', ' 75', ' 74', 2080], ['79', ' 60', ' 97'], ['74', 500, 620, 1200]]\n",
      "3136\n",
      "[['79', ' 98', 20, 23, 27, 26], ['54', ' 65', ' 75', ' 74', 2080], ['79', ' 60', ' 97'], ['74', 500, 620, 1200, 3136]]\n",
      "x=3\n",
      "25\n",
      "[['79', ' 98', 20, 23, 27, 26], ['54', ' 65', ' 75', ' 74', 2080, 25], ['79', ' 60', ' 97'], ['74', 500, 620, 1200, 3136]]\n",
      "167\n",
      "[['79', ' 98', 20, 23, 27, 26], ['54', ' 65', ' 75', ' 74', 2080, 25, 167], ['79', ' 60', ' 97'], ['74', 500, 620, 1200, 3136]]\n",
      "207\n",
      "[['79', ' 98', 20, 23, 27, 26], ['54', ' 65', ' 75', ' 74', 2080, 25, 167, 207], ['79', ' 60', ' 97'], ['74', 500, 620, 1200, 3136]]\n",
      "401\n",
      "[['79', ' 98', 20, 23, 27, 26], ['54', ' 65', ' 75', ' 74', 2080, 25, 167, 207, 401], ['79', ' 60', ' 97'], ['74', 500, 620, 1200, 3136]]\n",
      "1046\n",
      "[['79', ' 98', 20, 23, 27, 26], ['54', ' 65', ' 75', ' 74', 2080, 25, 167, 207, 401, 1046], ['79', ' 60', ' 97'], ['74', 500, 620, 1200, 3136]]\n"
     ]
    }
   ],
   "source": [
    "for x in range(len(monkey)):\n",
    "    print(f\"{x=}\")\n",
    "    for y in range(len(monkey[x])):\n",
    "#        print(f\"{monkey[x][y]=}\")\n",
    "        worry=math.floor(ops[flat[x]](int(monkey[x][y]),int(flat2[x]))/3)\n",
    "        print(worry)\n",
    "        if worry % int(testl[x])==0:\n",
    "            monkey[int(truel[int(x)])].append(worry)\n",
    "        else:\n",
    "            monkey[int(falsel[int(x)])].append(worry)\n",
    "        print(monkey)\n"
   ]
  },
  {
   "cell_type": "code",
   "execution_count": 72,
   "metadata": {},
   "outputs": [
    {
     "name": "stdout",
     "output_type": "stream",
     "text": [
      "yello\n",
      "2 **\n",
      "['19', '6', 'old', '3'] ['*', '+', '*', '+']\n"
     ]
    }
   ],
   "source": []
  }
 ],
 "metadata": {
  "kernelspec": {
   "display_name": "stream",
   "language": "python",
   "name": "python3"
  },
  "language_info": {
   "codemirror_mode": {
    "name": "ipython",
    "version": 3
   },
   "file_extension": ".py",
   "mimetype": "text/x-python",
   "name": "python",
   "nbconvert_exporter": "python",
   "pygments_lexer": "ipython3",
   "version": "3.10.10"
  }
 },
 "nbformat": 4,
 "nbformat_minor": 2
}
