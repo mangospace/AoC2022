{
 "cells": [
  {
   "cell_type": "code",
   "execution_count": 27,
   "metadata": {},
   "outputs": [
    {
     "name": "stdout",
     "output_type": "stream",
     "text": [
      "addx 3\n",
      "['addx', '3']\n",
      "addx -5\n",
      "['addx', '-5']\n",
      "cycles=[1, 2, 2]\n",
      "X=[nan, 'addx', 'addx']\n"
     ]
    }
   ],
   "source": [
    "#part 1\n",
    "import regex as re\n",
    "import numpy as np\n",
    "templist=[]\n",
    "with open('D:\\Data\\AoC2022\\day9_shorttest.txt', 'r') as f:\n",
    "    Lines = f.readlines()\n",
    "\n",
    "y=0\n",
    "cycles=[]\n",
    "cyclecnt=0\n",
    "X=[]\n",
    "for y in Lines:\n",
    "    y=re.sub(\"\\n\",\"\",y)\n",
    "    if y==\"noop\":\n",
    "        cycles.append(np.nan)\n",
    "        X.append(1)\n",
    "    else:\n",
    "        print(y)\n",
    "        print(y.split(\" \"))\n",
    "        cycles.append(2)\n",
    "        X.append(y.split(\" \")[0])\n",
    "\n",
    "print(f\"{cycles=}\")            \n",
    "print(f\"{X=}\")            \n",
    "        \n",
    "\n",
    "\n"
   ]
  },
  {
   "cell_type": "code",
   "execution_count": null,
   "metadata": {},
   "outputs": [],
   "source": [
    "    if y==\"noop\":\n",
    "        cycles.append(1)\n",
    "    else:\n",
    "        print(y)\n",
    "        _ , cyclea = y\n",
    "        print(cyclea)\n",
    "        cycles.append(2)\n",
    "print(cycles)            \n",
    "        \n"
   ]
  }
 ],
 "metadata": {
  "kernelspec": {
   "display_name": "stream",
   "language": "python",
   "name": "python3"
  },
  "language_info": {
   "codemirror_mode": {
    "name": "ipython",
    "version": 3
   },
   "file_extension": ".py",
   "mimetype": "text/x-python",
   "name": "python",
   "nbconvert_exporter": "python",
   "pygments_lexer": "ipython3",
   "version": "3.10.10"
  }
 },
 "nbformat": 4,
 "nbformat_minor": 2
}
