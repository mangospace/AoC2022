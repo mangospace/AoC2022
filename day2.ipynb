{
 "cells": [
  {
   "cell_type": "code",
   "execution_count": 11,
   "metadata": {},
   "outputs": [
    {
     "name": "stdout",
     "output_type": "stream",
     "text": [
      "10816\n"
     ]
    }
   ],
   "source": [
    "import pandas as pd\n",
    "import regex as re\n",
    "with open('/Users/manaskaushik/Documents/AoC2022/day2.txt', 'r') as f:\n",
    "    Lines = f.readlines()\n",
    "#shape you selected (1 for Rock, 2 for Paper, and 3 for Scissors) +\n",
    "# score for the outcome of the round (0 if you lost, 3 if the round was a draw, and 6 if you won).\n",
    "\n",
    "#A:Rock B:Paper C:Scissors\n",
    "#X:Rock Y:Paper Z:Scissors\n",
    "\n",
    "scoredict={\"A X\":4, #Rock/Rock-draw 1+3\n",
    "\"B Y\" :  5,  #paper/paper-draw 2+3\n",
    "\"C Z\": 6, #Scissors/scissors-draw 3+3\n",
    "\n",
    "\"A Z\": 3,  #Rock/Scissors-loose 3+0\n",
    "\"B Z\" :  9,  #paper/scissors-win  3+6\n",
    "\n",
    "\"B X\" :  1,  #paper/Rock-loose 1+0\n",
    "\"C X\": 7, #scissors:Rock-win 1+6\n",
    "\n",
    "\"A Y\" : 8 , #Rock/paper-win 2+6\n",
    "\"C Y\":  2, #Scissors/paper-loose 2+0\n",
    "}     \n",
    "\n",
    "sum=0\n",
    "for x in Lines:\n",
    "    Lines1=re.sub(\"\\n\",\"\",x)\n",
    "#    print(scoredict.get(Lines1))\n",
    "    sum+=scoredict.get(Lines1)\n",
    "\n",
    "print(sum)\n",
    "\n",
    "\n"
   ]
  },
  {
   "cell_type": "code",
   "execution_count": 12,
   "metadata": {},
   "outputs": [
    {
     "name": "stdout",
     "output_type": "stream",
     "text": [
      "11657\n"
     ]
    }
   ],
   "source": [
    "#X means you need to lose,\n",
    "# Y means you need to end the round in a draw\n",
    "# Z means you need to win. \n",
    "\n",
    "#A:Rock B:Paper C:Scissors\n",
    "#X:Rock Y:Paper Z:Scissors\n",
    "\n",
    "#shape you selected (1 for Rock, 2 for Paper, and 3 for Scissors) +\n",
    "# score for the outcome of the round (0 if you lost, 3 if the round was a draw, and 6 if you won).\n",
    "\n",
    "\n",
    "windict={\"A X\": \"scissors\", #rock loose 3+0\n",
    "\"B X\" :  \"rock\",  #paper-loose  1+0\n",
    "\"C X\": \"paper\", #scissors loose 2+0\n",
    "\n",
    "\"B Y\" :  \"paper\",  #paper/paper-draw 2+3\n",
    "\"A Y\" : \"rock\" , #Rock/paper-draw 1+3\n",
    "\"C Y\":  \"scissors\", #Scissors/paper-draw 3+3\n",
    "\n",
    "\"C Z\": \"rock\", #Scissors/scissors-win 1+6\n",
    "\"A Z\": \"paper\",  #Rock/Scissors-win 2+6\n",
    "\"B Z\" : \"scissors\",  #paper/scissors-win  3+6\n",
    "\n",
    "}     \n",
    "\n",
    "\n",
    "scoredict1={\"A X\": 3, #rock loose 3+0\n",
    "\"B X\" :  1,  #paper-loose  1+0\n",
    "\"C X\": 2, #scissors loose 2+0\n",
    "\n",
    "\"B Y\" :  5,  #paper/paper-draw 2+3\n",
    "\"A Y\" : 4 , #Rock/paper-draw 2+3\n",
    "\"C Y\":  6, #Scissors/paper-draw 2+3\n",
    "\n",
    "\"C Z\": 7, #Scissors/scissors-win 1+6\n",
    "\"A Z\": 8,  #Rock/Scissors-win 2+6\n",
    "\"B Z\" : 9,  #paper/scissors-win  3+6\n",
    "\n",
    "}     \n",
    "\n",
    "\n",
    "sum=0\n",
    "for x in Lines:\n",
    "    Lines1=re.sub(\"\\n\",\"\",x)\n",
    "    sum+=scoredict1.get(Lines1)\n",
    "\n",
    "print(sum)"
   ]
  }
 ],
 "metadata": {
  "kernelspec": {
   "display_name": "stream",
   "language": "python",
   "name": "python3"
  },
  "language_info": {
   "codemirror_mode": {
    "name": "ipython",
    "version": 3
   },
   "file_extension": ".py",
   "mimetype": "text/x-python",
   "name": "python",
   "nbconvert_exporter": "python",
   "pygments_lexer": "ipython3",
   "version": "3.11.5"
  }
 },
 "nbformat": 4,
 "nbformat_minor": 2
}
