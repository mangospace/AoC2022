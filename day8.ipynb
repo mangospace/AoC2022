{
 "cells": [
  {
   "cell_type": "code",
   "execution_count": 18,
   "metadata": {},
   "outputs": [
    {
     "name": "stdout",
     "output_type": "stream",
     "text": [
      "[['3', '0', '3', '7', '3'], ['2', '5', '5', '1', '2'], ['6', '5', '3', '3', '2'], ['3', '3', '5', '4', '9'], ['3', '5', '3', '9', '0']]\n",
      "[['3', '0', '3', '7', '3'], ['2', '5', '5', '1', '2'], ['6', '5', '3', '3', '2'], ['3', '5', '3', '9', '0']]\n"
     ]
    }
   ],
   "source": [
    "import regex as re\n",
    "\n",
    "templist=[]\n",
    "with open('D:\\Data\\AoC2022\\day8_test.txt', 'r') as f:\n",
    "    Lines = f.readlines()\n",
    "for x in Lines:\n",
    "    templist.append(list(re.sub(\"\\n\",\"\", x)))\n",
    "\n",
    "print(templist)\n",
    "del templist[3]\n",
    "print(templist) "
   ]
  },
  {
   "cell_type": "code",
   "execution_count": 13,
   "metadata": {},
   "outputs": [
    {
     "name": "stdout",
     "output_type": "stream",
     "text": [
      "[['5', '0', '2', '5', '5'], ['5', '3', '5', '1', '3'], ['1', '7', '5', '2', '3'], ['5', '5', '6', '3', '3'], ['3', '5', '5', '3', '5'], ['3', '1', '3', '2', '4'], ['3', '5', '3', '5', '5'], ['5', '3', '3', '4', '3'], ['4', '3', '5', '9', '9']]\n"
     ]
    }
   ],
   "source": [
    "countvis=0\n",
    "complist=[]\n",
    "rows=5\n",
    "columns=5\n",
    "for y in range(1,rows-1):\n",
    "    for x in range(1,columns-1):\n",
    "        complist.append([templist[y][x],templist[y-1][x],templist[y][x-1],templist[y][x+1],templist[y+1][x]])\n",
    "\n",
    "#        complist.append([templist[y][x],templist[y-1][x],templist[y][x-1],templist[y][x+1],templist[y+1][x]])\n",
    "\n",
    "print(complist)\n",
    "        "
   ]
  }
 ],
 "metadata": {
  "kernelspec": {
   "display_name": "stream",
   "language": "python",
   "name": "python3"
  },
  "language_info": {
   "codemirror_mode": {
    "name": "ipython",
    "version": 3
   },
   "file_extension": ".py",
   "mimetype": "text/x-python",
   "name": "python",
   "nbconvert_exporter": "python",
   "pygments_lexer": "ipython3",
   "version": "3.10.10"
  }
 },
 "nbformat": 4,
 "nbformat_minor": 2
}
