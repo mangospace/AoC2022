{
 "cells": [
  {
   "cell_type": "code",
   "execution_count": 40,
   "metadata": {},
   "outputs": [
    {
     "name": "stdout",
     "output_type": "stream",
     "text": [
      "['noop\\n', 'noop\\n', 'noop\\n', 'addx 6\\n', 'addx -1\\n', 'addx 5\\n', 'noop\\n', 'noop\\n', 'noop\\n', 'addx 5\\n', 'addx 11\\n', 'addx -10\\n', 'addx 4\\n', 'noop\\n', 'addx 5\\n', 'noop\\n', 'noop\\n', 'noop\\n', 'addx 1\\n', 'noop\\n', 'addx 4\\n', 'addx 5\\n', 'noop\\n', 'noop\\n', 'noop\\n', 'addx -35\\n', 'addx -2\\n', 'addx 5\\n', 'addx 2\\n', 'addx 3\\n', 'addx -2\\n', 'addx 2\\n', 'addx 5\\n', 'addx 2\\n', 'addx 3\\n', 'addx -2\\n', 'addx 2\\n', 'addx 5\\n', 'addx 2\\n', 'addx 3\\n', 'addx -28\\n', 'addx 28\\n', 'addx 5\\n', 'addx 2\\n', 'addx -9\\n', 'addx 10\\n', 'addx -38\\n', 'noop\\n', 'addx 3\\n', 'addx 2\\n', 'addx 7\\n', 'noop\\n', 'noop\\n', 'addx -9\\n', 'addx 10\\n', 'addx 4\\n', 'addx 2\\n', 'addx 3\\n', 'noop\\n', 'noop\\n', 'addx -2\\n', 'addx 7\\n', 'noop\\n', 'noop\\n', 'noop\\n', 'addx 3\\n', 'addx 5\\n', 'addx 2\\n', 'noop\\n', 'noop\\n', 'noop\\n', 'addx -35\\n', 'noop\\n', 'noop\\n', 'noop\\n', 'addx 5\\n', 'addx 2\\n', 'noop\\n', 'addx 3\\n', 'noop\\n', 'noop\\n', 'noop\\n', 'addx 5\\n', 'addx 3\\n', 'addx -2\\n', 'addx 2\\n', 'addx 5\\n', 'addx 2\\n', 'addx -25\\n', 'noop\\n', 'addx 30\\n', 'noop\\n', 'addx 1\\n', 'noop\\n', 'addx 2\\n', 'noop\\n', 'addx 3\\n', 'addx -38\\n', 'noop\\n', 'addx 7\\n', 'addx -2\\n', 'addx 5\\n', 'addx 2\\n', 'addx -8\\n', 'addx 13\\n', 'addx -2\\n', 'noop\\n', 'addx 3\\n', 'addx 2\\n', 'addx 5\\n', 'addx 2\\n', 'addx -15\\n', 'noop\\n', 'addx 20\\n', 'addx 3\\n', 'noop\\n', 'addx 2\\n', 'addx -4\\n', 'addx 5\\n', 'addx -38\\n', 'addx 8\\n', 'noop\\n', 'noop\\n', 'noop\\n', 'noop\\n', 'noop\\n', 'noop\\n', 'addx 2\\n', 'addx 17\\n', 'addx -10\\n', 'addx 3\\n', 'noop\\n', 'addx 2\\n', 'addx 1\\n', 'addx -16\\n', 'addx 19\\n', 'addx 2\\n', 'noop\\n', 'addx 2\\n', 'addx 5\\n', 'addx 2\\n', 'noop\\n', 'noop\\n', 'noop\\n', 'noop\\n', 'noop\\n', 'noop\\n']\n"
     ]
    }
   ],
   "source": [
    "#part 1\n",
    "import regex as re\n",
    "import numpy as np\n",
    "templist=[]\n",
    "#with open('/Users/manaskaushik/Documents/AoC2022/day9_shorttest.txt', 'r') as f:\n",
    "#with open('D:\\Data\\AoC2022\\day10 _longtest.txt', 'r') as f:\n",
    "with open('D:\\Data\\AoC2022\\day10.txt', 'r') as f:\n",
    "    Lines = f.readlines()\n",
    "print(Lines)"
   ]
  },
  {
   "cell_type": "code",
   "execution_count": 41,
   "metadata": {},
   "outputs": [],
   "source": [
    "y=0\n",
    "cycles=[]\n",
    "cyclecnt=0\n",
    "X=[]\n",
    "start=0\n",
    "for index, y in enumerate(Lines):\n",
    "    y=re.sub(\"\\n\",\"\",y)\n",
    "    if index==0:\n",
    "        if y==\"noop\":\n",
    "            X.append(0+start)\n",
    "            cycles.append(1)\n",
    "        else:\n",
    "            cycles.append(2)\n",
    "            X.append(int(y.split(\" \")[1]))\n",
    "    else:\n",
    "        if y==\"noop\":\n",
    "                X.append(0)\n",
    "                cycles.append(1)\n",
    "        else:\n",
    "            cycles.append(2)\n",
    "            X.append(int(y.split(\" \")[1]))\n",
    "\n",
    "sum= 0\n",
    "sumx=1\n",
    "\n",
    "ind=0\n",
    "dictsig={}\n",
    "for index, y in enumerate(cycles):\n",
    "    if y==1:\n",
    "        sum+=y\n",
    "        sumx+=X[index]\n",
    "        ind+=1\n",
    "        dictsig[ind]=sumx     \n",
    "    if y==2:\n",
    "        ind+=1\n",
    "        dictsig[ind]=sumx     \n",
    "        ind+=1\n",
    "        sum+=y\n",
    "        sumx+=X[index]\n",
    "        dictsig[ind]=sumx     \n",
    "print(dictsig)\n",
    "\n",
    "def day10(cycle):\n",
    "    if dictsig[cycle]==dictsig[cycle-1]:\n",
    "        return(cycle*dictsig[cycle])\n",
    "    else:\n",
    "        return(cycle*dictsig[cycle-1])\n",
    "\n",
    "print(day10(220))\n",
    "addt= day10(20)+day10(60)+day10(100)+day10(140)+day10(180)+day10(220)\n",
    "print(addt)   "
   ]
  }
 ],
 "metadata": {
  "kernelspec": {
   "display_name": "stream",
   "language": "python",
   "name": "python3"
  },
  "language_info": {
   "codemirror_mode": {
    "name": "ipython",
    "version": 3
   },
   "file_extension": ".py",
   "mimetype": "text/x-python",
   "name": "python",
   "nbconvert_exporter": "python",
   "pygments_lexer": "ipython3",
   "version": "3.10.10"
  }
 },
 "nbformat": 4,
 "nbformat_minor": 2
}
